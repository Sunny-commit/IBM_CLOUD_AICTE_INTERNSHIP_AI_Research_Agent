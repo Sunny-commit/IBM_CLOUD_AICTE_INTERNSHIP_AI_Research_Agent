{
 "cells": [
  {
   "cell_type": "markdown",
   "metadata": {},
   "source": [
    "## AI Research Agent – IBM Cloud\n",
    "\n",
    "An AI-powered assistant for automating academic research using IBM Cloud, watsonx.ai, and Granite LLMs. This tool supports literature review, summarization, citation handling, and report generation to accelerate research workflows."
   ]
  },
  {
   "cell_type": "markdown",
   "metadata": {},
   "source": [
    "### Connection to WML\n",
    "This cell defines the credentials required to work with watsonx API for both the execution in the project, \n",
    "as well as the deployment and runtime execution of the function.\n",
    "\n",
    "**Action:** Provide the IBM Cloud personal API key. For details, see\n",
    "<a href=\"https://cloud.ibm.com/docs/account?topic=account-userapikey&interface=ui\" target=\"_blank\">documentation</a>.\n"
   ]
  },
  {
   "cell_type": "code",
   "execution_count": 1,
   "metadata": {
    "id": "722711bc-02b4-489e-86b7-71b4f6ed30d3"
   },
   "outputs": [
    {
     "name": "stdout",
     "output_type": "stream",
     "text": [
      "Please enter your api key (hit enter):  ········\n"
     ]
    }
   ],
   "source": [
    "import os\n",
    "from ibm_watsonx_ai import APIClient, Credentials\n",
    "import getpass\n",
    "\n",
    "credentials = Credentials(\n",
    "    url=\"https://us-south.ml.cloud.ibm.com\",\n",
    "    api_key=getpass.getpass(\"Please enter your api key (hit enter): \")\n",
    ")\n",
    "\n"
   ]
  },
  {
   "cell_type": "code",
   "execution_count": 2,
   "metadata": {
    "id": "4a6291fd-e377-4e88-be41-be057f9db844"
   },
   "outputs": [],
   "source": [
    "client = APIClient(credentials)"
   ]
  },
  {
   "cell_type": "markdown",
   "metadata": {},
   "source": [
    "### Connecting to a space\n",
    "A space will be be used to host the promoted AI Service.\n"
   ]
  },
  {
   "cell_type": "code",
   "execution_count": null,
   "metadata": {
    "id": "fc5f1ef6-dd81-4697-bff3-9bb5e15f7155"
   },
   "outputs": [
    {
     "data": {
      "text/plain": [
       "'SUCCESS'"
      ]
     },
     "execution_count": 3,
     "metadata": {},
     "output_type": "execute_result"
    }
   ],
   "source": [
    "space_id = \"1df9c2f6-cbf2-486a-9136-1de08bdce9bc\" \n",
    "client.set.default_space(space_id)\n"
   ]
  },
  {
   "cell_type": "markdown",
   "metadata": {},
   "source": [
    "### Promote asset(s) to space\n",
    "We will now promote assets we will need to stage in the space so that we can access their data from the AI service.\n"
   ]
  },
  {
   "cell_type": "code",
   "execution_count": 4,
   "metadata": {
    "id": "432bc4bb-8b8b-4cf5-b151-3f93d4ba669a"
   },
   "outputs": [],
   "source": [
    "source_project_id = \"96246cd7-711a-45d3-b944-3dd7c7e54e7c\"\n"
   ]
  },
  {
   "cell_type": "markdown",
   "metadata": {},
   "source": [
    "## 2. Create the AI service function\n",
    "We first need to define the AI service function\n",
    "\n",
    "### 2.1 Define the function"
   ]
  },
  {
   "cell_type": "code",
   "execution_count": 5,
   "metadata": {
    "id": "de4bb38a-491c-44ad-a95f-ac26ac2b2adf"
   },
   "outputs": [],
   "source": [
    "params = {\n",
    "    \"space_id\": space_id,\n",
    "}\n",
    "\n",
    "def gen_ai_service(context, params = params, **custom):\n",
    "    # import dependencies\n",
    "    from langchain_ibm import ChatWatsonx\n",
    "    from ibm_watsonx_ai import APIClient\n",
    "    from ibm_watsonx_ai.foundation_models.utils import Tool, Toolkit\n",
    "    from langchain_core.messages import AIMessage, HumanMessage\n",
    "    from langgraph.checkpoint.memory import MemorySaver\n",
    "    from langgraph.prebuilt import create_react_agent\n",
    "    import json\n",
    "    import requests\n",
    "\n",
    "    model = \"meta-llama/llama-3-3-70b-instruct\"\n",
    "    \n",
    "    service_url = \"https://us-south.ml.cloud.ibm.com\"\n",
    "    # Get credentials token\n",
    "    credentials = {\n",
    "        \"url\": service_url,\n",
    "        \"token\": context.generate_token()\n",
    "    }\n",
    "\n",
    "    # Setup client\n",
    "    client = APIClient(credentials)\n",
    "    space_id = params.get(\"space_id\")\n",
    "    client.set.default_space(space_id)\n",
    "\n",
    "\n",
    "\n",
    "    def create_chat_model(watsonx_client):\n",
    "        parameters = {\n",
    "            \"frequency_penalty\": 0,\n",
    "            \"max_tokens\": 2000,\n",
    "            \"presence_penalty\": 0,\n",
    "            \"temperature\": 0,\n",
    "            \"top_p\": 1\n",
    "        }\n",
    "\n",
    "        chat_model = ChatWatsonx(\n",
    "            model_id=model,\n",
    "            url=service_url,\n",
    "            space_id=space_id,\n",
    "            params=parameters,\n",
    "            watsonx_client=watsonx_client,\n",
    "        )\n",
    "        return chat_model\n",
    "    \n",
    "    \n",
    "    def create_utility_agent_tool(tool_name, params, api_client, **kwargs):\n",
    "        from langchain_core.tools import StructuredTool\n",
    "        utility_agent_tool = Toolkit(\n",
    "            api_client=api_client\n",
    "        ).get_tool(tool_name)\n",
    "    \n",
    "        tool_description = utility_agent_tool.get(\"description\")\n",
    "    \n",
    "        if (kwargs.get(\"tool_description\")):\n",
    "            tool_description = kwargs.get(\"tool_description\")\n",
    "        elif (utility_agent_tool.get(\"agent_description\")):\n",
    "            tool_description = utility_agent_tool.get(\"agent_description\")\n",
    "        \n",
    "        tool_schema = utility_agent_tool.get(\"input_schema\")\n",
    "        if (tool_schema == None):\n",
    "            tool_schema = {\n",
    "                \"type\": \"object\",\n",
    "                \"additionalProperties\": False,\n",
    "                \"$schema\": \"http://json-schema.org/draft-07/schema#\",\n",
    "                \"properties\": {\n",
    "                    \"input\": {\n",
    "                        \"description\": \"input for the tool\",\n",
    "                        \"type\": \"string\"\n",
    "                    }\n",
    "                }\n",
    "            }\n",
    "        \n",
    "        def run_tool(**tool_input):\n",
    "            query = tool_input\n",
    "            if (utility_agent_tool.get(\"input_schema\") == None):\n",
    "                query = tool_input.get(\"input\")\n",
    "    \n",
    "            results = utility_agent_tool.run(\n",
    "                input=query,\n",
    "                config=params\n",
    "            )\n",
    "            \n",
    "            return results.get(\"output\")\n",
    "        \n",
    "        return StructuredTool(\n",
    "            name=tool_name,\n",
    "            description = tool_description,\n",
    "            func=run_tool,\n",
    "            args_schema=tool_schema\n",
    "        )\n",
    "    \n",
    "    \n",
    "    def create_custom_tool(tool_name, tool_description, tool_code, tool_schema, tool_params):\n",
    "        from langchain_core.tools import StructuredTool\n",
    "        import ast\n",
    "    \n",
    "        def call_tool(**kwargs):\n",
    "            tree = ast.parse(tool_code, mode=\"exec\")\n",
    "            custom_tool_functions = [ x for x in tree.body if isinstance(x, ast.FunctionDef) ]\n",
    "            function_name = custom_tool_functions[0].name\n",
    "            compiled_code = compile(tree, 'custom_tool', 'exec')\n",
    "            namespace = tool_params if tool_params else {}\n",
    "            exec(compiled_code, namespace)\n",
    "            return namespace[function_name](**kwargs)\n",
    "            \n",
    "        tool = StructuredTool(\n",
    "            name=tool_name,\n",
    "            description = tool_description,\n",
    "            func=call_tool,\n",
    "            args_schema=tool_schema\n",
    "        )\n",
    "        return tool\n",
    "    \n",
    "    def create_custom_tools():\n",
    "        custom_tools = []\n",
    "    \n",
    "\n",
    "    def create_tools(inner_client, context):\n",
    "        tools = []\n",
    "        \n",
    "        config = None\n",
    "        tools.append(create_utility_agent_tool(\"GoogleSearch\", config, inner_client))\n",
    "        config = {\n",
    "        }\n",
    "        tools.append(create_utility_agent_tool(\"DuckDuckGo\", config, inner_client))\n",
    "        config = {\n",
    "            \"maxResults\": 5\n",
    "        }\n",
    "        tools.append(create_utility_agent_tool(\"Wikipedia\", config, inner_client))\n",
    "        config = {\n",
    "        }\n",
    "        tools.append(create_utility_agent_tool(\"WebCrawler\", config, inner_client))\n",
    "        config = {\n",
    "        }\n",
    "        tools.append(create_utility_agent_tool(\"Weather\", config, inner_client))\n",
    "        return tools\n",
    "    \n",
    "    def create_agent(model, tools, messages):\n",
    "        memory = MemorySaver()\n",
    "        instructions = \"\"\"# Notes\n",
    "- Use markdown syntax for formatting code snippets, links, JSON, tables, images, files.\n",
    "- Any HTML tags must be wrapped in block quotes, for example ```<html>```.\n",
    "- When returning code blocks, specify language.\n",
    "- Sometimes, things don't go as planned. Tools may not provide useful information on the first few tries. You should always try a few different approaches before declaring the problem unsolvable.\n",
    "- When the tool doesn't give you what you were asking for, you must either use another tool or a different tool input.\n",
    "- When using search engines, you try different formulations of the query, possibly even in a different language.\n",
    "- You cannot do complex calculations, computations, or data manipulations without using tools.\n",
    "- If you need to call a tool to compute something, always call it instead of saying you will call it.\n",
    "\n",
    "If a tool returns an IMAGE in the result, you must include it in your answer as Markdown.\n",
    "\n",
    "Example:\n",
    "\n",
    "Tool result: IMAGE({commonApiUrl}/wx/v1-beta/utility_agent_tools/cache/images/plt-04e3c91ae04b47f8934a4e6b7d1fdc2c.png)\n",
    "Markdown to return to user: ![Generated image]({commonApiUrl}/wx/v1-beta/utility_agent_tools/cache/images/plt-04e3c91ae04b47f8934a4e6b7d1fdc2c.png)\n",
    "\n",
    "You are an AI Research Agent designed to assist with academic and scientific tasks.\n",
    "Autonomously search for literature, summarize papers, extract data, and manage citations.\n",
    "Generate structured reports, suggest novel hypotheses, and draft sections of research papers.\n",
    "Your core principles are accuracy, efficiency, and innovation, always citing your sources..\n",
    "When greeted, say \\\"Hi, I am watsonx.ai agent. How can I help you?\\\"\"\"\"\n",
    "        for message in messages:\n",
    "            if message[\"role\"] == \"system\":\n",
    "                instructions += message[\"content\"]\n",
    "        graph = create_react_agent(model, tools=tools, checkpointer=memory, state_modifier=instructions)\n",
    "        return graph\n",
    "    \n",
    "    def convert_messages(messages):\n",
    "        converted_messages = []\n",
    "        for message in messages:\n",
    "            if (message[\"role\"] == \"user\"):\n",
    "                converted_messages.append(HumanMessage(content=message[\"content\"]))\n",
    "            elif (message[\"role\"] == \"assistant\"):\n",
    "                converted_messages.append(AIMessage(content=message[\"content\"]))\n",
    "        return converted_messages\n",
    "\n",
    "    def generate(context):\n",
    "        payload = context.get_json()\n",
    "        messages = payload.get(\"messages\")\n",
    "        inner_credentials = {\n",
    "            \"url\": service_url,\n",
    "            \"token\": context.get_token()\n",
    "        }\n",
    "\n",
    "        inner_client = APIClient(inner_credentials)\n",
    "        model = create_chat_model(inner_client)\n",
    "        tools = create_tools(inner_client, context)\n",
    "        agent = create_agent(model, tools, messages)\n",
    "        \n",
    "        generated_response = agent.invoke(\n",
    "            { \"messages\": convert_messages(messages) },\n",
    "            { \"configurable\": { \"thread_id\": \"42\" } }\n",
    "        )\n",
    "\n",
    "        last_message = generated_response[\"messages\"][-1]\n",
    "        generated_response = last_message.content\n",
    "\n",
    "        execute_response = {\n",
    "            \"headers\": {\n",
    "                \"Content-Type\": \"application/json\"\n",
    "            },\n",
    "            \"body\": {\n",
    "                \"choices\": [{\n",
    "                    \"index\": 0,\n",
    "                    \"message\": {\n",
    "                       \"role\": \"assistant\",\n",
    "                       \"content\": generated_response\n",
    "                    }\n",
    "                }]\n",
    "            }\n",
    "        }\n",
    "\n",
    "        return execute_response\n",
    "\n",
    "    def generate_stream(context):\n",
    "        print(\"Generate stream\", flush=True)\n",
    "        payload = context.get_json()\n",
    "        headers = context.get_headers()\n",
    "        is_assistant = headers.get(\"X-Ai-Interface\") == \"assistant\"\n",
    "        messages = payload.get(\"messages\")\n",
    "        inner_credentials = {\n",
    "            \"url\": service_url,\n",
    "            \"token\": context.get_token()\n",
    "        }\n",
    "        inner_client = APIClient(inner_credentials)\n",
    "        model = create_chat_model(inner_client)\n",
    "        tools = create_tools(inner_client, context)\n",
    "        agent = create_agent(model, tools, messages)\n",
    "\n",
    "        response_stream = agent.stream(\n",
    "            { \"messages\": messages },\n",
    "            { \"configurable\": { \"thread_id\": \"42\" } },\n",
    "            stream_mode=[\"updates\", \"messages\"]\n",
    "        )\n",
    "\n",
    "        for chunk in response_stream:\n",
    "            chunk_type = chunk[0]\n",
    "            finish_reason = \"\"\n",
    "            usage = None\n",
    "            if (chunk_type == \"messages\"):\n",
    "                message_object = chunk[1][0]\n",
    "                if (message_object.type == \"AIMessageChunk\" and message_object.content != \"\"):\n",
    "                    message = {\n",
    "                        \"role\": \"assistant\",\n",
    "                        \"content\": message_object.content\n",
    "                    }\n",
    "                else:\n",
    "                    continue\n",
    "            elif (chunk_type == \"updates\"):\n",
    "                update = chunk[1]\n",
    "                if (\"agent\" in update):\n",
    "                    agent = update[\"agent\"]\n",
    "                    agent_result = agent[\"messages\"][0]\n",
    "                    if (agent_result.additional_kwargs):\n",
    "                        kwargs = agent[\"messages\"][0].additional_kwargs\n",
    "                        tool_call = kwargs[\"tool_calls\"][0]\n",
    "                        if (is_assistant):\n",
    "                            message = {\n",
    "                                \"role\": \"assistant\",\n",
    "                                \"step_details\": {\n",
    "                                    \"type\": \"tool_calls\",\n",
    "                                    \"tool_calls\": [\n",
    "                                        {\n",
    "                                            \"id\": tool_call[\"id\"],\n",
    "                                            \"name\": tool_call[\"function\"][\"name\"],\n",
    "                                            \"args\": tool_call[\"function\"][\"arguments\"]\n",
    "                                        }\n",
    "                                    ] \n",
    "                                }\n",
    "                            }\n",
    "                        else:\n",
    "                            message = {\n",
    "                                \"role\": \"assistant\",\n",
    "                                \"tool_calls\": [\n",
    "                                    {\n",
    "                                        \"id\": tool_call[\"id\"],\n",
    "                                        \"type\": \"function\",\n",
    "                                        \"function\": {\n",
    "                                            \"name\": tool_call[\"function\"][\"name\"],\n",
    "                                            \"arguments\": tool_call[\"function\"][\"arguments\"]\n",
    "                                        }\n",
    "                                    }\n",
    "                                ]\n",
    "                            }\n",
    "                    elif (agent_result.response_metadata):\n",
    "                        # Final update\n",
    "                        message = {\n",
    "                            \"role\": \"assistant\",\n",
    "                            \"content\": agent_result.content\n",
    "                        }\n",
    "                        finish_reason = agent_result.response_metadata[\"finish_reason\"]\n",
    "                        if (finish_reason): \n",
    "                            message[\"content\"] = \"\"\n",
    "\n",
    "                        usage = {\n",
    "                            \"completion_tokens\": agent_result.usage_metadata[\"output_tokens\"],\n",
    "                            \"prompt_tokens\": agent_result.usage_metadata[\"input_tokens\"],\n",
    "                            \"total_tokens\": agent_result.usage_metadata[\"total_tokens\"]\n",
    "                        }\n",
    "                elif (\"tools\" in update):\n",
    "                    tools = update[\"tools\"]\n",
    "                    tool_result = tools[\"messages\"][0]\n",
    "                    if (is_assistant):\n",
    "                        message = {\n",
    "                            \"role\": \"assistant\",\n",
    "                            \"step_details\": {\n",
    "                                \"type\": \"tool_response\",\n",
    "                                \"id\": tool_result.id,\n",
    "                                \"tool_call_id\": tool_result.tool_call_id,\n",
    "                                \"name\": tool_result.name,\n",
    "                                \"content\": tool_result.content\n",
    "                            }\n",
    "                        }\n",
    "                    else:\n",
    "                        message = {\n",
    "                            \"role\": \"tool\",\n",
    "                            \"id\": tool_result.id,\n",
    "                            \"tool_call_id\": tool_result.tool_call_id,\n",
    "                            \"name\": tool_result.name,\n",
    "                            \"content\": tool_result.content\n",
    "                        }\n",
    "                else:\n",
    "                    continue\n",
    "\n",
    "            chunk_response = {\n",
    "                \"choices\": [{\n",
    "                    \"index\": 0,\n",
    "                    \"delta\": message\n",
    "                }]\n",
    "            }\n",
    "            if (finish_reason):\n",
    "                chunk_response[\"choices\"][0][\"finish_reason\"] = finish_reason\n",
    "            if (usage):\n",
    "                chunk_response[\"usage\"] = usage\n",
    "            yield chunk_response\n",
    "\n",
    "    return generate, generate_stream\n"
   ]
  },
  {
   "cell_type": "markdown",
   "metadata": {},
   "source": [
    "### 2.2 Test locally"
   ]
  },
  {
   "cell_type": "code",
   "execution_count": 6,
   "metadata": {
    "id": "a439c344-b3cf-47d1-b95c-7554c150e78f"
   },
   "outputs": [],
   "source": [
    "# Initialize AI Service function locally\n",
    "from ibm_watsonx_ai.deployments import RuntimeContext\n",
    "\n",
    "context = RuntimeContext(api_client=client)\n",
    "\n",
    "streaming = False\n",
    "findex = 1 if streaming else 0\n",
    "local_function = gen_ai_service(context,  space_id=space_id)[findex]\n",
    "messages = []"
   ]
  },
  {
   "cell_type": "code",
   "execution_count": null,
   "metadata": {
    "id": "8c6be877-8c00-4bf2-a68a-bc7f5d916b08",
    "msg_id": "3e144454-e35a-4bae-a950-f2470d26bc83"
   },
   "outputs": [],
   "source": [
    "local_question = \"Change this question to test your function\"\n",
    "\n",
    "messages.append({ \"role\" : \"user\", \"content\": local_question })\n",
    "\n",
    "context = RuntimeContext(api_client=client, request_payload_json={\"messages\": messages})\n",
    "\n",
    "response = local_function(context)\n",
    "\n",
    "result = ''\n",
    "\n",
    "if (streaming):\n",
    "    for chunk in response:\n",
    "        print(chunk, end=\"\\n\\n\", flush=True)\n",
    "else:\n",
    "    print(response)\n"
   ]
  },
  {
   "cell_type": "markdown",
   "metadata": {},
   "source": [
    "## 3. Store and deploy the AI Service\n",
    "Before you can deploy the AI Service, you must store the AI service in your watsonx.ai repository."
   ]
  },
  {
   "cell_type": "code",
   "execution_count": null,
   "metadata": {
    "id": "ed346a3e-1470-4dcc-a443-44ab74bb318c",
    "msg_id": "42bd4682-83ad-4ecf-9877-426ab07d49c6"
   },
   "outputs": [],
   "source": [
    "# Look up software specification for the AI service\n",
    "software_spec_id_in_project = \"45f12dfe-aa78-5b8d-9f38-0ee223c47309\"\n",
    "software_spec_id = \"\"\n",
    "\n",
    "try:\n",
    "    software_spec_id = client.software_specifications.get_id_by_name(\"runtime-24.1-py3.11\")\n",
    "except:\n",
    "    software_spec_id = client.spaces.promote(software_spec_id_in_project, source_project_id, space_id)"
   ]
  },
  {
   "cell_type": "code",
   "execution_count": null,
   "metadata": {
    "id": "40afe8a7-2c12-400a-a644-f43229035576",
    "msg_id": "ff00ca63-068e-491b-b47f-20b597c6ff30"
   },
   "outputs": [],
   "source": [
    "# Define the request and response schemas for the AI service\n",
    "request_schema = {\n",
    "    \"application/json\": {\n",
    "        \"$schema\": \"http://json-schema.org/draft-07/schema#\",\n",
    "        \"type\": \"object\",\n",
    "        \"properties\": {\n",
    "            \"messages\": {\n",
    "                \"title\": \"The messages for this chat session.\",\n",
    "                \"type\": \"array\",\n",
    "                \"items\": {\n",
    "                    \"type\": \"object\",\n",
    "                    \"properties\": {\n",
    "                        \"role\": {\n",
    "                            \"title\": \"The role of the message author.\",\n",
    "                            \"type\": \"string\",\n",
    "                            \"enum\": [\"user\",\"assistant\"]\n",
    "                        },\n",
    "                        \"content\": {\n",
    "                            \"title\": \"The contents of the message.\",\n",
    "                            \"type\": \"string\"\n",
    "                        }\n",
    "                    },\n",
    "                    \"required\": [\"role\",\"content\"]\n",
    "                }\n",
    "            }\n",
    "        },\n",
    "        \"required\": [\"messages\"]\n",
    "    }\n",
    "}\n",
    "\n",
    "response_schema = {\n",
    "    \"application/json\": {\n",
    "        \"oneOf\": [{\"$schema\":\"http://json-schema.org/draft-07/schema#\",\"type\":\"object\",\"description\":\"AI Service response for /ai_service_stream\",\"properties\":{\"choices\":{\"description\":\"A list of chat completion choices.\",\"type\":\"array\",\"items\":{\"type\":\"object\",\"properties\":{\"index\":{\"type\":\"integer\",\"title\":\"The index of this result.\"},\"delta\":{\"description\":\"A message result.\",\"type\":\"object\",\"properties\":{\"content\":{\"description\":\"The contents of the message.\",\"type\":\"string\"},\"role\":{\"description\":\"The role of the author of this message.\",\"type\":\"string\"}},\"required\":[\"role\"]}}}}},\"required\":[\"choices\"]},{\"$schema\":\"http://json-schema.org/draft-07/schema#\",\"type\":\"object\",\"description\":\"AI Service response for /ai_service\",\"properties\":{\"choices\":{\"description\":\"A list of chat completion choices\",\"type\":\"array\",\"items\":{\"type\":\"object\",\"properties\":{\"index\":{\"type\":\"integer\",\"description\":\"The index of this result.\"},\"message\":{\"description\":\"A message result.\",\"type\":\"object\",\"properties\":{\"role\":{\"description\":\"The role of the author of this message.\",\"type\":\"string\"},\"content\":{\"title\":\"Message content.\",\"type\":\"string\"}},\"required\":[\"role\"]}}}}},\"required\":[\"choices\"]}]\n",
    "    }\n",
    "}"
   ]
  },
  {
   "cell_type": "code",
   "execution_count": null,
   "metadata": {
    "id": "82f20b33-4212-4bb5-badb-272918221592",
    "msg_id": "4161437e-a9c6-4558-9e4b-56314efa9cb5"
   },
   "outputs": [],
   "source": [
    "# Store the AI service in the repository\n",
    "ai_service_metadata = {\n",
    "    client.repository.AIServiceMetaNames.NAME: \"research_agent\",\n",
    "    client.repository.AIServiceMetaNames.DESCRIPTION: \"\",\n",
    "    client.repository.AIServiceMetaNames.SOFTWARE_SPEC_ID: software_spec_id,\n",
    "    client.repository.AIServiceMetaNames.CUSTOM: {},\n",
    "    client.repository.AIServiceMetaNames.REQUEST_DOCUMENTATION: request_schema,\n",
    "    client.repository.AIServiceMetaNames.RESPONSE_DOCUMENTATION: response_schema,\n",
    "    client.repository.AIServiceMetaNames.TAGS: [\"wx-agent\"]\n",
    "}\n",
    "\n",
    "ai_service_details = client.repository.store_ai_service(meta_props=ai_service_metadata, ai_service=gen_ai_service)"
   ]
  },
  {
   "cell_type": "code",
   "execution_count": null,
   "metadata": {
    "id": "178279f1-98bb-4036-8857-9ec6d3c3027c",
    "msg_id": "e806af92-b51d-4089-9620-5fb7879a92d5"
   },
   "outputs": [],
   "source": [
    "# Get the AI Service ID\n",
    "\n",
    "ai_service_id = client.repository.get_ai_service_id(ai_service_details)"
   ]
  },
  {
   "cell_type": "code",
   "execution_count": null,
   "metadata": {
    "id": "84b4a619-ccce-4458-bb0c-94ae0548b7cd",
    "msg_id": "5d3e2b85-ae7a-412c-8ccf-3408cedc1b99"
   },
   "outputs": [],
   "source": [
    "# Deploy the stored AI Service\n",
    "deployment_custom = {\n",
    "    \"avatar_icon\": \"Bot\",\n",
    "    \"avatar_color\": \"background\",\n",
    "    \"placeholder_image\": \"placeholder2.png\"\n",
    "}\n",
    "deployment_metadata = {\n",
    "    client.deployments.ConfigurationMetaNames.NAME: \"research_agent\",\n",
    "    client.deployments.ConfigurationMetaNames.ONLINE: {},\n",
    "    client.deployments.ConfigurationMetaNames.CUSTOM: deployment_custom,\n",
    "    client.deployments.ConfigurationMetaNames.DESCRIPTION: \"Change this description to reflect your particular agent\",\n",
    "    client.repository.AIServiceMetaNames.TAGS: [\"wx-agent\"]\n",
    "}\n",
    "\n",
    "function_deployment_details = client.deployments.create(ai_service_id, meta_props=deployment_metadata, space_id=space_id)\n"
   ]
  },
  {
   "cell_type": "markdown",
   "metadata": {},
   "source": [
    "## 4. Test AI Service"
   ]
  },
  {
   "cell_type": "code",
   "execution_count": null,
   "metadata": {
    "id": "2f49077a-4bef-425a-8ea5-ec49ad6c6105",
    "msg_id": "68f042be-03e3-4fb9-ab88-9dcaaab7c5b5"
   },
   "outputs": [],
   "source": [
    "# Get the ID of the AI Service deployment just created\n",
    "\n",
    "deployment_id = client.deployments.get_id(function_deployment_details)\n",
    "print(deployment_id)"
   ]
  },
  {
   "cell_type": "code",
   "execution_count": null,
   "metadata": {
    "id": "4f17e3b0-f852-4b73-bfa4-4ffd69d653e1",
    "msg_id": "deeb5c6b-07fd-4bfe-8939-58e967b11136"
   },
   "outputs": [],
   "source": [
    "messages = []\n",
    "remote_question = \"Change this question to test your function\"\n",
    "messages.append({ \"role\" : \"user\", \"content\": remote_question })\n",
    "payload = { \"messages\": messages }"
   ]
  },
  {
   "cell_type": "code",
   "execution_count": null,
   "metadata": {
    "id": "dbbb45ca-ba31-4ad3-a5aa-ac0ca2aa9207",
    "msg_id": "ad483ec4-f681-46cb-90fd-8f21d0691a0b"
   },
   "outputs": [],
   "source": [
    "result = client.deployments.run_ai_service(deployment_id, payload)\n",
    "if \"error\" in result:\n",
    "    print(result[\"error\"])\n",
    "else:\n",
    "    print(result)"
   ]
  },
  {
   "cell_type": "markdown",
   "metadata": {},
   "source": [
    "# Next steps\n",
    "You successfully deployed and tested the AI Service! You can now view\n",
    "your deployment and test it as a REST API endpoint.\n",
    "\n",
    "<a id=\"copyrights\"></a>\n",
    "### Copyrights\n",
    "\n",
    "Licensed Materials - Copyright © 2024 IBM. This notebook and its source code are released under the terms of the ILAN License.\n",
    "Use, duplication disclosure restricted by GSA ADP Schedule Contract with IBM Corp.\n",
    "\n",
    "**Note:** The auto-generated notebooks are subject to the International License Agreement for Non-Warranted Programs (or equivalent) and License Information document for watsonx.ai Auto-generated Notebook (License Terms), such agreements located in the link below. Specifically, the Source Components and Sample Materials clause included in the License Information document for watsonx.ai Studio Auto-generated Notebook applies to the auto-generated notebooks.  \n",
    "\n",
    "By downloading, copying, accessing, or otherwise using the materials, you agree to the <a href=\"https://www14.software.ibm.com/cgi-bin/weblap/lap.pl?li_formnum=L-AMCU-BYC7LF\" target=\"_blank\">License Terms</a>  "
   ]
  },
  {
   "cell_type": "markdown",
   "id": "d4e374f1",
   "metadata": {},
   "source": [
    "## Contributor\n",
    "**Chandu Pateti** – Developer & Architect"
   ]
  }
 ],
 "metadata": {
  "kernelspec": {
   "display_name": "Python 3.11",
   "language": "python",
   "name": "python3"
  },
  "language_info": {
   "codemirror_mode": {
    "name": "ipython",
    "version": 3
   },
   "file_extension": ".py",
   "mimetype": "text/x-python",
   "name": "python",
   "nbconvert_exporter": "python",
   "pygments_lexer": "ipython3",
   "version": "3.11.13"
  }
 },
 "nbformat": 4,
 "nbformat_minor": 4
}
